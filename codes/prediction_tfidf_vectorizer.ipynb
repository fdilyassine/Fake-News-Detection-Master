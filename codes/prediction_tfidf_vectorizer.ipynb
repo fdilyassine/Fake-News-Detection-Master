{
 "cells": [
  {
   "cell_type": "code",
   "execution_count": null,
   "metadata": {},
   "outputs": [],
   "source": []
  },
  {
   "cell_type": "code",
   "execution_count": 2,
   "metadata": {},
   "outputs": [
    {
     "name": "stdout",
     "output_type": "stream",
     "text": [
      "The news entered:\tNearly half of Oregons children are poor.\n",
      "Predicted label:\t[ True]\n",
      "Truth probability:\t0.6779789253299903\n"
     ]
    }
   ],
   "source": [
    "\"\"\"\n",
    " # @author y.fdil\n",
    " # @email y.fdil@edu.umi.ac.ma\n",
    " # @create date 2022-06-12 10:47:16\n",
    "\n",
    "\"\"\"\n",
    "\n",
    "# Importing the libraries\n",
    "import os\n",
    "import pickle\n",
    "import warnings \n",
    "warnings.filterwarnings(\"ignore\")\n",
    "\n",
    "\n",
    "user_input = input('Enter the news to verify:\\t')\n",
    "print('The news entered:\\t{}'.format(user_input))\n",
    "\n",
    "\n",
    "# Function for making the prediction\n",
    "def make_prediction(user_input):\n",
    "\n",
    "    # Loading the desired model\n",
    "    final_model = pickle.load(\n",
    "        open(os.path.join('../models', \n",
    "            'voting_classifier_tfidf_vectorizer.pkl'), 'rb'), \n",
    "    )\n",
    "\n",
    "    # Making prediction on the user_input and displaying the result\n",
    "    prediction = final_model.predict([user_input])\n",
    "    prediction_probability = final_model.predict_proba([user_input])\n",
    "    print('Predicted label:\\t{}'.format(prediction))\n",
    "    print('Truth probability:\\t{}'.format(prediction_probability[0][1]))\n",
    "\n",
    "if __name__ == '__main__':\n",
    "    make_prediction(user_input)\n"
   ]
  }
 ],
 "metadata": {
  "kernelspec": {
   "display_name": "Python 3.9.7 ('base')",
   "language": "python",
   "name": "python3"
  },
  "language_info": {
   "codemirror_mode": {
    "name": "ipython",
    "version": 3
   },
   "file_extension": ".py",
   "mimetype": "text/x-python",
   "name": "python",
   "nbconvert_exporter": "python",
   "pygments_lexer": "ipython3",
   "version": "3.9.7"
  },
  "orig_nbformat": 4,
  "vscode": {
   "interpreter": {
    "hash": "cf2fc48634cd6cd67b00e85e4819c226a6a3a164ad0f8f75761705102dfa2842"
   }
  }
 },
 "nbformat": 4,
 "nbformat_minor": 2
}
